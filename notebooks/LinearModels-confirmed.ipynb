{
 "cells": [
  {
   "cell_type": "code",
   "execution_count": 1,
   "metadata": {},
   "outputs": [],
   "source": [
    "import numpy as np\n",
    "import pandas as pd\n",
    "from linearmodels import PooledOLS, PanelOLS, RandomEffects\n",
    "from linearmodels.panel import compare\n",
    "import statsmodels.api as sm\n",
    "from statsmodels.stats.diagnostic import het_breuschpagan, het_white\n",
    "from statsmodels.stats.stattools import durbin_watson\n",
    "import matplotlib.pyplot as plt\n",
    "from tabulate import tabulate\n",
    "import numpy.linalg as la\n",
    "from scipy import stats\n",
    "from sklearn.preprocessing import StandardScaler"
   ]
  },
  {
   "cell_type": "markdown",
   "metadata": {},
   "source": [
    "# Fixed and Random Effects models\n",
    "\n",
    "In the following function both Fixed and Random Effects models are implemented. The Fixed Effects analysis can be switched off to perform just a Ramdon effects\n",
    "analysis. In case both the Fixed and Random effects model is run the Hausman Test is performed to compare the two.\n",
    "\n",
    "## Tests\n",
    "The following tests can be done on the data setting \"pOLS=True\" _and_ \"tests=True\"  \n",
    "- White Test for heteroskedasticity  \n",
    "- Breusch-Pagan Test for heteroskedasticity  \n",
    "- Durbin-Watson Test for autocorrelation  \n",
    "\n",
    "## Data Scaling\n",
    "Data scaling with a standard scaler can be performed by setting \"scale=True\". The standard scaler is given by the transformation:  \n",
    "$$x\\rightarrow\\frac{x-\\mu}{\\sigma}$$\n",
    "This ensures that the coefficients are of $\\mathcal{O}(1)$. This does not affect the p-value of the coefficients.\n",
    "\n",
    "## Dealing with $-\\infty$\n",
    "The number of confirmed cases is transformed with a $\\log_{10}$. This gives a $-\\infty$ for 0 values. These $-\\infty$ are replaced by $10^{-6}$.\n",
    "Varying them to $10^{-4}$ does not change the results.\n",
    "\n",
    "## variations in the analysis\n",
    "The analysis is broken down into three regions  \n",
    "- East Coast  \n",
    "- Southern States  \n",
    "- West Coast  \n",
    "\n",
    "and into two phases: Phase I and Phase II"
   ]
  },
  {
   "cell_type": "code",
   "execution_count": 2,
   "metadata": {},
   "outputs": [],
   "source": [
    "def hausman(fe, re):\n",
    "    ''' The Hausman test to check for fixed effects\n",
    "        arguments:\n",
    "            fe : Fixed Effects Models result object\n",
    "            re : Random Effects Models result object\n",
    "        returns:\n",
    "            chi2: chi squared for the test\n",
    "            df: degrees of freedom for the test\n",
    "            pval: p value of the test\n",
    "    '''\n",
    "    b = fe.params\n",
    "    B = re.params\n",
    "    v_b = fe.cov\n",
    "    v_B = re.cov\n",
    "    df = b[np.abs(b) < 1e8].size\n",
    "    chi2 = np.dot((b - B).T, la.inv(v_b - v_B).dot(b - B)) \n",
    "\n",
    "    pval = stats.chi2.sf(chi2, df)\n",
    "    return chi2, df, pval\n",
    "\n",
    "def analysis(region, period, exog, fixedEffects=False, pOLS=False, tests=False, scale=True):\n",
    "    ''' Perfomes the full analysis including a linear OLS, Heteroskedasticity tests, \n",
    "        Autocorrelation tests, Random Effects modeling, Fixed Effects Modeling, Hausman test\n",
    "        and model comparison\n",
    "        arguments:\n",
    "            region: a string to specify the region for which the analysis is being done. Can be \"east\", \"west\" or \"south\"\n",
    "            period: a string to specify the period for which the analysis is being done. Can be \"1\" or \"2\"\n",
    "            exog: a list of strings to specify the exogenous variables. Can be any combination of:\n",
    "                    'Density', 'Non-White', 'Poverty', 'Income', 'Unemployment',\n",
    "                    'Uninsured', 'Employed', 'Labor', 'Transit', 'Mean Commute',\n",
    "                    'Senior Citizen', 'Gini', 'Comorbidities'\n",
    "            fixedEffects: a boolean to specify whether to perform the fixed effects analysis. This will include Fixed Effects modeling, Hausman Test\n",
    "                          and model comparison with random effects.\n",
    "            pOLS: a boolean for performing pooled OLS necessary for heteroskedasticity tests\n",
    "            tests: a boolean to turn on the heteroskedasticity (White Test, Breusch-Pagan Test) and autocorrelations (Durbin-Watson Test) tests\n",
    "            scale: a boolean to turn on standard scaling of data\n",
    "    '''\n",
    "    df_data = pd.read_csv('../data/panel_merged_period_'+period+'_weekly_norm_diff_confirmed.csv', usecols=['FIPS', 'week']+exog+['confirmed_cases', 'region'], index_col=['FIPS', 'week'])\n",
    "    df_data['week'] = pd.Categorical(df_data.index.get_level_values('week').to_list())\n",
    "    df_data = df_data[df_data.region == region].drop(columns=['region'])\n",
    "    df_data['confirmed_cases'] = np.log10(df_data['confirmed_cases'].clip(lower=0)).replace([-np.inf], 1e-6)\n",
    "    \n",
    "    if scale:\n",
    "        scaler = StandardScaler()\n",
    "        df_scaled = scaler.fit_transform(df_data.iloc[:,:4])\n",
    "        df_data['Density'] = df_scaled.T[0]\n",
    "        df_data['Non-White'] = df_scaled.T[1]\n",
    "        df_data['Income'] = df_scaled.T[2]\n",
    "        df_data['Unemployment'] = df_scaled.T[3]\n",
    "        \n",
    "    if tests and not pOLS:\n",
    "        print(\"Set pOLS to True if tests is set to True\")\n",
    "        pOLS = True\n",
    "    \n",
    "    if pOLS:\n",
    "        # Pooled OLS\n",
    "        x = sm.tools.add_constant(df_data[exog])\n",
    "        y = df_data['confirmed_cases']\n",
    "        model = PooledOLS(y, x)\n",
    "        pooled_result = model.fit(cov_type='clustered', cluster_entity=True)\n",
    "        pooled_fv = pooled_result.predict().fitted_values\n",
    "        pooled_res = pooled_result.resids\n",
    "\n",
    "        print(pooled_result)\n",
    "        print('\\n\\n')\n",
    "\n",
    "        # plot to check heteroskedasticity\n",
    "        plt.figure(figsize=(6,4))\n",
    "        plt.scatter(pooled_fv, pooled_res, s=5)\n",
    "        plt.grid(':', alpha=0.5)\n",
    "        plt.xlabel('Predicted Values')\n",
    "        plt.ylabel('Residuals')\n",
    "        plt.title('Heteroskedasticity Test')\n",
    "        plt.tight_layout()\n",
    "        plt.show()\n",
    "        print('\\n\\n')\n",
    "        \n",
    "        if tests:\n",
    "            # White Test (for heteroskedasticity)\n",
    "            pooled_ols = pd.concat([df_data, pooled_res], axis=1)\n",
    "            pooled_ols = pooled_ols.drop(columns=['week'])\n",
    "\n",
    "            x = sm.tools.add_constant(df_data['Income'])\n",
    "            white_test = het_white(pooled_ols['residual'], x)\n",
    "\n",
    "            labels = ['LM-Stat', 'LM p-val', 'F-Stat', 'F p-val']\n",
    "            table = [[label, white_test[i]] for i, label in enumerate(labels)]\n",
    "            print(\"White Test\")\n",
    "            print(tabulate(table, headers=['stat', 'value'], tablefmt='psql'))\n",
    "\n",
    "            # Breusch-Pagan Test (for heteroskedasticity)\n",
    "            bp_test = het_breuschpagan(pooled_ols['residual'], x)\n",
    "            labels = ['LM-Stat', 'LM p-val', 'F-Stat', 'F p-val']\n",
    "            table = [[label, bp_test[i]] for i, label in enumerate(labels)]\n",
    "            print(\"\\nBreusch-Pagan Test\")\n",
    "            print(tabulate(table, headers=['stat', 'value'], tablefmt='psql'))\n",
    "\n",
    "            # Durbin-Watson Test (for autocorrelation)\n",
    "            dw_test = durbin_watson(pooled_ols['residual'])\n",
    "            print(\"\\nDurbin-Watson Test: {:5f}\\n\\n\".format(dw_test))\n",
    "    \n",
    "    # Random Effect Model\n",
    "    x = sm.tools.add_constant(df_data[exog])\n",
    "    y = df_data['confirmed_cases']\n",
    "\n",
    "    model_re = RandomEffects(y, x)\n",
    "    re_result = model_re.fit()\n",
    "\n",
    "    print(re_result)\n",
    "    \n",
    "    if fixedEffects:\n",
    "        \n",
    "        # Fixed Effect Model\n",
    "        model_fe = PanelOLS(y, x, entity_effects=True)\n",
    "        fe_result = model_fe.fit()\n",
    "        \n",
    "        print('\\n\\n')\n",
    "        print(fe_result)\n",
    "        \n",
    "        # Hausman Test\n",
    "        hausman_result = hausman(fe_result, re_result)\n",
    "        labels = ['chi-squared', 'degrees of freedom', 'p-value']\n",
    "        table = [[label, hausman_result[i]] for i, label in enumerate(labels)]\n",
    "        print(\"Hausman Test\")\n",
    "        print(tabulate(table, headers=['stat', 'value'], tablefmt='psql'))\n",
    "        \n",
    "        # Compare between Fixed Effects and Random Effects\n",
    "        print('\\n\\n')\n",
    "        print(compare({\"RE\": re_result, \"FE\": fe_result}))"
   ]
  },
  {
   "cell_type": "markdown",
   "metadata": {
    "tags": []
   },
   "source": [
    "_______________\n",
    "# East Coast\n",
    "\n",
    "## Phase 1"
   ]
  },
  {
   "cell_type": "code",
   "execution_count": 3,
   "metadata": {},
   "outputs": [
    {
     "name": "stdout",
     "output_type": "stream",
     "text": [
      "                          PooledOLS Estimation Summary                          \n",
      "================================================================================\n",
      "Dep. Variable:        confirmed_cases   R-squared:                        0.1080\n",
      "Estimator:                  PooledOLS   R-squared (Between):              0.5920\n",
      "No. Observations:                3036   R-squared (Within):               0.0000\n",
      "Date:                Sat, Jan 15 2022   R-squared (Overall):              0.1080\n",
      "Time:                        01:25:12   Log-likelihood                   -3483.5\n",
      "Cov. Estimator:             Clustered                                           \n",
      "                                        F-statistic:                      91.784\n",
      "Entities:                        1043   P-value                           0.0000\n",
      "Avg Obs:                       2.9108   Distribution:                  F(4,3031)\n",
      "Min Obs:                       0.0000                                           \n",
      "Max Obs:                       22.000   F-statistic (robust):             55.261\n",
      "                                        P-value                           0.0000\n",
      "Time periods:                      22   Distribution:                  F(4,3031)\n",
      "Avg Obs:                       138.00                                           \n",
      "Min Obs:                       138.00                                           \n",
      "Max Obs:                       138.00                                           \n",
      "                                                                                \n",
      "                              Parameter Estimates                               \n",
      "================================================================================\n",
      "              Parameter  Std. Err.     T-stat    P-value    Lower CI    Upper CI\n",
      "--------------------------------------------------------------------------------\n",
      "const            1.0937     0.0188     58.297     0.0000      1.0569      1.1305\n",
      "Density          0.1607     0.0354     4.5423     0.0000      0.0913      0.2300\n",
      "Unemployment     0.0164     0.0228     0.7171     0.4733     -0.0284      0.0611\n",
      "Income           0.0363     0.0327     1.1093     0.2674     -0.0279      0.1004\n",
      "Non-White        0.0959     0.0253     3.7887     0.0002      0.0463      0.1456\n",
      "================================================================================\n",
      "\n",
      "\n",
      "\n"
     ]
    },
    {
     "data": {
      "image/png": "[encoded data removed]",
      "text/plain": [
       "<Figure size 432x288 with 1 Axes>"
      ]
     },
     "metadata": {
      "needs_background": "light"
     },
     "output_type": "display_data"
    },
    {
     "name": "stdout",
     "output_type": "stream",
     "text": [
      "\n",
      "\n",
      "\n",
      "White Test\n",
      "+----------+--------------+\n",
      "| stat     |        value |\n",
      "|----------+--------------|\n",
      "| LM-Stat  | 54.1763      |\n",
      "| LM p-val |  1.72093e-12 |\n",
      "| F-Stat   | 27.5531      |\n",
      "| F p-val  |  1.38441e-12 |\n",
      "+----------+--------------+\n",
      "\n",
      "Breusch-Pagan Test\n",
      "+----------+--------------+\n",
      "| stat     |        value |\n",
      "|----------+--------------|\n",
      "| LM-Stat  | 51.0966      |\n",
      "| LM p-val |  8.79315e-13 |\n",
      "| F-Stat   | 51.937       |\n",
      "| F p-val  |  7.19984e-13 |\n",
      "+----------+--------------+\n",
      "\n",
      "Durbin-Watson Test: 0.385931\n",
      "\n",
      "\n",
      "                        RandomEffects Estimation Summary                        \n",
      "================================================================================\n",
      "Dep. Variable:        confirmed_cases   R-squared:                        0.0599\n",
      "Estimator:              RandomEffects   R-squared (Between):              0.5920\n",
      "No. Observations:                3036   R-squared (Within):               0.0000\n",
      "Date:                Sat, Jan 15 2022   R-squared (Overall):              0.1080\n",
      "Time:                        01:25:13   Log-likelihood                   -3419.4\n",
      "Cov. Estimator:            Unadjusted                                           \n",
      "                                        F-statistic:                      48.312\n",
      "Entities:                        1043   P-value                           0.0000\n",
      "Avg Obs:                       2.9108   Distribution:                  F(4,3031)\n",
      "Min Obs:                       0.0000                                           \n",
      "Max Obs:                       22.000   F-statistic (robust):             48.312\n",
      "                                        P-value                           0.0000\n",
      "Time periods:                      22   Distribution:                  F(4,3031)\n",
      "Avg Obs:                       138.00                                           \n",
      "Min Obs:                       138.00                                           \n",
      "Max Obs:                       138.00                                           \n",
      "                                                                                \n",
      "                              Parameter Estimates                               \n",
      "================================================================================\n",
      "              Parameter  Std. Err.     T-stat    P-value    Lower CI    Upper CI\n",
      "--------------------------------------------------------------------------------\n",
      "const            1.0937     0.0191     57.316     0.0000      1.0563      1.1311\n",
      "Density          0.1607     0.0371     4.3320     0.0000      0.0879      0.2334\n",
      "Unemployment     0.0164     0.0243     0.6731     0.5010     -0.0313      0.0640\n",
      "Income           0.0363     0.0272     1.3323     0.1829     -0.0171      0.0897\n",
      "Non-White        0.0959     0.0340     2.8223     0.0048      0.0293      0.1626\n",
      "================================================================================\n"
     ]
    }
   ],
   "source": [
    "analysis('east', '1', ['Density', 'Unemployment', 'Income', 'Non-White'], pOLS=True, tests=True)"
   ]
  },
  {
   "cell_type": "markdown",
   "metadata": {},
   "source": [
    "## Phase 2"
   ]
  },
  {
   "cell_type": "code",
   "execution_count": 4,
   "metadata": {},
   "outputs": [
    {
     "name": "stdout",
     "output_type": "stream",
     "text": [
      "                        RandomEffects Estimation Summary                        \n",
      "================================================================================\n",
      "Dep. Variable:        confirmed_cases   R-squared:                        0.0109\n",
      "Estimator:              RandomEffects   R-squared (Between):              0.2295\n",
      "No. Observations:                3588   R-squared (Within):               0.0000\n",
      "Date:                Sat, Jan 15 2022   R-squared (Overall):              0.0515\n",
      "Time:                        01:25:36   Log-likelihood                   -3160.7\n",
      "Cov. Estimator:            Unadjusted                                           \n",
      "                                        F-statistic:                      9.9123\n",
      "Entities:                        1043   P-value                           0.0000\n",
      "Avg Obs:                       3.4401   Distribution:                  F(4,3583)\n",
      "Min Obs:                       0.0000                                           \n",
      "Max Obs:                       26.000   F-statistic (robust):             9.9123\n",
      "                                        P-value                           0.0000\n",
      "Time periods:                      26   Distribution:                  F(4,3583)\n",
      "Avg Obs:                       138.00                                           \n",
      "Min Obs:                       138.00                                           \n",
      "Max Obs:                       138.00                                           \n",
      "                                                                                \n",
      "                              Parameter Estimates                               \n",
      "================================================================================\n",
      "              Parameter  Std. Err.     T-stat    P-value    Lower CI    Upper CI\n",
      "--------------------------------------------------------------------------------\n",
      "const            1.8139     0.0235     77.321     0.0000      1.7679      1.8598\n",
      "Density          0.1114     0.0456     2.4438     0.0146      0.0220      0.2008\n",
      "Unemployment     0.0387     0.0299     1.2962     0.1950     -0.0198      0.0973\n",
      "Income          -0.0348     0.0335    -1.0382     0.2992     -0.1004      0.0309\n",
      "Non-White        0.0384     0.0418     0.9181     0.3586     -0.0436      0.1203\n",
      "================================================================================\n"
     ]
    }
   ],
   "source": [
    "analysis('east', '2', ['Density', 'Unemployment', 'Income', 'Non-White'])"
   ]
  },
  {
   "cell_type": "markdown",
   "metadata": {
    "tags": []
   },
   "source": [
    "_______________\n",
    "# West Coast\n",
    "\n",
    "## Phase 1"
   ]
  },
  {
   "cell_type": "code",
   "execution_count": 5,
   "metadata": {},
   "outputs": [
    {
     "name": "stdout",
     "output_type": "stream",
     "text": [
      "                        RandomEffects Estimation Summary                        \n",
      "================================================================================\n",
      "Dep. Variable:        confirmed_cases   R-squared:                        0.0737\n",
      "Estimator:              RandomEffects   R-squared (Between):              0.6444\n",
      "No. Observations:                2926   R-squared (Within):               0.0000\n",
      "Date:                Sat, Jan 15 2022   R-squared (Overall):              0.1515\n",
      "Time:                        01:25:38   Log-likelihood                   -2923.3\n",
      "Cov. Estimator:            Unadjusted                                           \n",
      "                                        F-statistic:                      58.064\n",
      "Entities:                        1610   P-value                           0.0000\n",
      "Avg Obs:                       1.8174   Distribution:                  F(4,2921)\n",
      "Min Obs:                       0.0000                                           \n",
      "Max Obs:                       22.000   F-statistic (robust):             58.064\n",
      "                                        P-value                           0.0000\n",
      "Time periods:                      22   Distribution:                  F(4,2921)\n",
      "Avg Obs:                       133.00                                           \n",
      "Min Obs:                       133.00                                           \n",
      "Max Obs:                       133.00                                           \n",
      "                                                                                \n",
      "                              Parameter Estimates                               \n",
      "================================================================================\n",
      "              Parameter  Std. Err.     T-stat    P-value    Lower CI    Upper CI\n",
      "--------------------------------------------------------------------------------\n",
      "const            0.6748     0.0188     35.958     0.0000      0.6380      0.7116\n",
      "Density          0.1136     0.0276     4.1216     0.0000      0.0595      0.1676\n",
      "Unemployment    -0.0941     0.0237    -3.9787     0.0001     -0.1405     -0.0477\n",
      "Income          -0.0618     0.0270    -2.2834     0.0225     -0.1148     -0.0087\n",
      "Non-White        0.2255     0.0234     9.6196     0.0000      0.1795      0.2715\n",
      "================================================================================\n"
     ]
    }
   ],
   "source": [
    "analysis('west', '1', ['Density', 'Unemployment', 'Income', 'Non-White'])"
   ]
  },
  {
   "cell_type": "markdown",
   "metadata": {},
   "source": [
    "## Phase 2"
   ]
  },
  {
   "cell_type": "code",
   "execution_count": 6,
   "metadata": {},
   "outputs": [
    {
     "name": "stdout",
     "output_type": "stream",
     "text": [
      "                        RandomEffects Estimation Summary                        \n",
      "================================================================================\n",
      "Dep. Variable:        confirmed_cases   R-squared:                        0.0539\n",
      "Estimator:              RandomEffects   R-squared (Between):              0.6054\n",
      "No. Observations:                3458   R-squared (Within):               0.0000\n",
      "Date:                Sat, Jan 15 2022   R-squared (Overall):              0.2007\n",
      "Time:                        01:25:39   Log-likelihood                   -2858.6\n",
      "Cov. Estimator:            Unadjusted                                           \n",
      "                                        F-statistic:                      49.146\n",
      "Entities:                        1610   P-value                           0.0000\n",
      "Avg Obs:                       2.1478   Distribution:                  F(4,3453)\n",
      "Min Obs:                       0.0000                                           \n",
      "Max Obs:                       26.000   F-statistic (robust):             49.146\n",
      "                                        P-value                           0.0000\n",
      "Time periods:                      26   Distribution:                  F(4,3453)\n",
      "Avg Obs:                       133.00                                           \n",
      "Min Obs:                       133.00                                           \n",
      "Max Obs:                       133.00                                           \n",
      "                                                                                \n",
      "                              Parameter Estimates                               \n",
      "================================================================================\n",
      "              Parameter  Std. Err.     T-stat    P-value    Lower CI    Upper CI\n",
      "--------------------------------------------------------------------------------\n",
      "const            1.8444     0.0212     86.965     0.0000      1.8028      1.8859\n",
      "Density          0.1414     0.0311     4.5414     0.0000      0.0804      0.2025\n",
      "Unemployment    -0.0829     0.0267    -3.1021     0.0019     -0.1354     -0.0305\n",
      "Income          -0.1771     0.0306    -5.7938     0.0000     -0.2370     -0.1172\n",
      "Non-White        0.2264     0.0265     8.5438     0.0000      0.1744      0.2783\n",
      "================================================================================\n"
     ]
    }
   ],
   "source": [
    "analysis('west', '2', ['Density', 'Unemployment', 'Income', 'Non-White'])"
   ]
  },
  {
   "cell_type": "markdown",
   "metadata": {
    "tags": []
   },
   "source": [
    "_______________\n",
    "# Southern States\n",
    "\n",
    "## Phase 1"
   ]
  },
  {
   "cell_type": "code",
   "execution_count": 7,
   "metadata": {},
   "outputs": [
    {
     "name": "stdout",
     "output_type": "stream",
     "text": [
      "                        RandomEffects Estimation Summary                        \n",
      "================================================================================\n",
      "Dep. Variable:        confirmed_cases   R-squared:                        0.0280\n",
      "Estimator:              RandomEffects   R-squared (Between):              0.3890\n",
      "No. Observations:               30668   R-squared (Within):             2.22e-16\n",
      "Date:                Sat, Jan 15 2022   R-squared (Overall):              0.0702\n",
      "Time:                        01:25:40   Log-likelihood                -3.561e+04\n",
      "Cov. Estimator:            Unadjusted                                           \n",
      "                                        F-statistic:                      221.10\n",
      "Entities:                        1665   P-value                           0.0000\n",
      "Avg Obs:                       18.419   Distribution:                 F(4,30663)\n",
      "Min Obs:                       0.0000                                           \n",
      "Max Obs:                       22.000   F-statistic (robust):             221.10\n",
      "                                        P-value                           0.0000\n",
      "Time periods:                      22   Distribution:                 F(4,30663)\n",
      "Avg Obs:                       1394.0                                           \n",
      "Min Obs:                       1394.0                                           \n",
      "Max Obs:                       1394.0                                           \n",
      "                                                                                \n",
      "                              Parameter Estimates                               \n",
      "================================================================================\n",
      "              Parameter  Std. Err.     T-stat    P-value    Lower CI    Upper CI\n",
      "--------------------------------------------------------------------------------\n",
      "const            0.8885     0.0074     119.56     0.0000      0.8739      0.9030\n",
      "Density          0.1698     0.0085     19.928     0.0000      0.1531      0.1865\n",
      "Unemployment    -0.0065     0.0085    -0.7608     0.4468     -0.0232      0.0102\n",
      "Income          -0.0426     0.0095    -4.5018     0.0000     -0.0612     -0.0241\n",
      "Non-White        0.1595     0.0077     20.796     0.0000      0.1445      0.1745\n",
      "================================================================================\n"
     ]
    }
   ],
   "source": [
    "analysis('south', '1', ['Density', 'Unemployment', 'Income', 'Non-White'])"
   ]
  },
  {
   "cell_type": "markdown",
   "metadata": {},
   "source": [
    "## Phase 2"
   ]
  },
  {
   "cell_type": "code",
   "execution_count": 8,
   "metadata": {},
   "outputs": [
    {
     "name": "stdout",
     "output_type": "stream",
     "text": [
      "                        RandomEffects Estimation Summary                        \n",
      "================================================================================\n",
      "Dep. Variable:        confirmed_cases   R-squared:                        0.0096\n",
      "Estimator:              RandomEffects   R-squared (Between):              0.2011\n",
      "No. Observations:               36244   R-squared (Within):            -2.22e-16\n",
      "Date:                Sat, Jan 15 2022   R-squared (Overall):              0.0397\n",
      "Time:                        01:25:41   Log-likelihood                -2.476e+04\n",
      "Cov. Estimator:            Unadjusted                                           \n",
      "                                        F-statistic:                      87.431\n",
      "Entities:                        1665   P-value                           0.0000\n",
      "Avg Obs:                       21.768   Distribution:                 F(4,36239)\n",
      "Min Obs:                       0.0000                                           \n",
      "Max Obs:                       26.000   F-statistic (robust):             87.431\n",
      "                                        P-value                           0.0000\n",
      "Time periods:                      26   Distribution:                 F(4,36239)\n",
      "Avg Obs:                       1394.0                                           \n",
      "Min Obs:                       1394.0                                           \n",
      "Max Obs:                       1394.0                                           \n",
      "                                                                                \n",
      "                              Parameter Estimates                               \n",
      "================================================================================\n",
      "              Parameter  Std. Err.     T-stat    P-value    Lower CI    Upper CI\n",
      "--------------------------------------------------------------------------------\n",
      "const            2.1862     0.0056     391.50     0.0000      2.1753      2.1972\n",
      "Density          0.1006     0.0064     15.708     0.0000      0.0880      0.1131\n",
      "Unemployment    -0.0188     0.0064    -2.9407     0.0033     -0.0314     -0.0063\n",
      "Income          -0.1103     0.0071    -15.490     0.0000     -0.1242     -0.0963\n",
      "Non-White        0.0067     0.0058     1.1587     0.2466     -0.0046      0.0180\n",
      "================================================================================\n"
     ]
    }
   ],
   "source": [
    "analysis('south', '2', ['Density', 'Unemployment', 'Income', 'Non-White'])"
   ]
  }
 ],
 "metadata": {
  "kernelspec": {
   "display_name": "Python 3",
   "language": "python",
   "name": "python3"
  },
  "language_info": {
   "codemirror_mode": {
    "name": "ipython",
    "version": 3
   },
   "file_extension": ".py",
   "mimetype": "text/x-python",
   "name": "python",
   "nbconvert_exporter": "python",
   "pygments_lexer": "ipython3",
   "version": "3.6.7"
  }
 },
 "nbformat": 4,
 "nbformat_minor": 4
}
