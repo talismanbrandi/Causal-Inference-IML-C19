{
 "cells": [
  {
   "cell_type": "code",
   "execution_count": 1,
   "metadata": {},
   "outputs": [],
   "source": [
    "import json\n",
    "\n",
    "def make_config_file(data, partial_order, confounding, folder, filename, y_var=\"confirmed.rate\"):\n",
    "    config = {\n",
    "          \"filename\": data,\n",
    "          \"x_var\": [\"Non.White\", \"Senior.Citizen\", \"Employed\", \"Unemployment\",\n",
    "            \"Income\", \"Labor\", \"Uninsured\", \"Comorbidities\", \"Poverty\", \"Gini\",\n",
    "            \"Density\", \"Mean.Commute\", \"Transit\"],\n",
    "          \"y_var\": y_var,\n",
    "          \"n_comb\": 0,\n",
    "          \"partial_order\": partial_order,\n",
    "          \"confound_list\": confounding,\n",
    "          \"output_dir\": folder,\n",
    "          \"num_cores\": 20,\n",
    "          \"ensemble_size\": 20,\n",
    "          \"output_format\": \"csv\"\n",
    "    }\n",
    "\n",
    "    with open(filename, 'w') as f:\n",
    "        json.dump(config, f)\n",
    "        \n",
    "def create_partial_order(partial_order, confounding, name, case='confirmed'):\n",
    "    partial_order = partial_order\n",
    "    confounding = confounding\n",
    "    \n",
    "    # East Coast\n",
    "    data = [\"data/East_Coast_February_July.csv\", \"data/East_Coast_July_January.csv\", \"data/East_Coast_February_July.csv\", \"data/East_Coast_July_January.csv\"]\n",
    "    folder = [\"causality-FEB-JUL-EC-160-NC\", \"causality-JUL-JAN-EC-160-NC\", \"causality-FEB-JUL-EC-160-CO\", \"causality-JUL-JAN-EC-160-CO\"]\n",
    "    path = \"../R/configuration_files/\"+case+\"/\"+name+\"/EC/\"\n",
    "    filename = [path+\"configurations-FEB-JUL-EC-NC.json\", path+\"configurations-JUL-JAN-EC-NC.json\", path+\"configurations-FEB-JUL-EC-CO.json\", path+\"configurations-JUL-JAN-EC-CO.json\"]\n",
    "\n",
    "    for z1, z2, z3, z4 in zip(data, confounding, folder, filename):\n",
    "        make_config_file(z1, partial_order, z2, z3, z4, y_var=case+\".rate\")\n",
    "       \n",
    "    # West Coast\n",
    "    data = [\"data/West_Coast_February_July.csv\", \"data/West_Coast_July_January.csv\", \"data/West_Coast_February_July.csv\", \"data/West_Coast_July_January.csv\"]\n",
    "    folder = [\"causality-FEB-JUL-WC-160-NC\", \"causality-JUL-JAN-WC-160-NC\", \"causality-FEB-JUL-WC-160-CO\", \"causality-JUL-JAN-WC-160-CO\"]\n",
    "    path = \"../R/configuration_files/\"+case+\"/\"+name+\"/WC/\"\n",
    "    filename = [path+\"configurations-FEB-JUL-WC-NC.json\", path+\"configurations-JUL-JAN-WC-NC.json\", path+\"configurations-FEB-JUL-WC-CO.json\", path+\"configurations-JUL-JAN-WC-CO.json\"]\n",
    "\n",
    "    for z1, z2, z3, z4 in zip(data, confounding, folder, filename):\n",
    "        make_config_file(z1, partial_order, z2, z3, z4, y_var=case+\".rate\")\n",
    "       \n",
    "    # Southern States\n",
    "    data = [\"data/Southern_States_February_July.csv\", \"data/Southern_States_July_January.csv\", \"data/Southern_States_February_July.csv\", \"data/Southern_States_July_January.csv\"]\n",
    "    folder = [\"causality-FEB-JUL-SS-160-NC\", \"causality-JUL-JAN-SS-160-NC\", \"causality-FEB-JUL-SS-160-CO\", \"causality-JUL-JAN-SS-160-CO\"]\n",
    "    path = \"../R/configuration_files/\"+case+\"/\"+name+\"/SS/\"\n",
    "    filename = [path+\"configurations-FEB-JUL-SS-NC.json\", path+\"configurations-JUL-JAN-SS-NC.json\", path+\"configurations-FEB-JUL-SS-CO.json\", path+\"configurations-JUL-JAN-SS-CO.json\"]\n",
    "\n",
    "    for z1, z2, z3, z4 in zip(data, confounding, folder, filename):\n",
    "        make_config_file(z1, partial_order, z2, z3, z4, y_var=case+\".rate\")"
   ]
  },
  {
   "cell_type": "markdown",
   "metadata": {},
   "source": [
    "________________\n",
    "# Confirmed"
   ]
  },
  {
   "cell_type": "markdown",
   "metadata": {},
   "source": [
    "### CO1"
   ]
  },
  {
   "cell_type": "code",
   "execution_count": 2,
   "metadata": {},
   "outputs": [],
   "source": [
    "partial_order = [1, [2, 3, 4], [5, 6], [7, 8, 9, 10], [11, 12, 13]]\n",
    "confounding = [[False, False, False, False, False], [False, False, False, False, False], [False, True, True, True, True], [False, True, True, True, True]]\n",
    "name = \"CO1\"\n",
    "create_partial_order(partial_order, confounding, name, case='confirmed')"
   ]
  },
  {
   "cell_type": "markdown",
   "metadata": {},
   "source": [
    "### CO2"
   ]
  },
  {
   "cell_type": "code",
   "execution_count": 3,
   "metadata": {},
   "outputs": [],
   "source": [
    "partial_order = [[3, 4], [5, 6], 2, 1, [7, 8, 9, 10], [11, 12, 13]]\n",
    "confounding = [[False, False, False, False, False, False], [False, False, False, False, False, False], [True, True, False, False, True, True], [True, True, False, False, True, True]]\n",
    "name = \"CO2\"\n",
    "create_partial_order(partial_order, confounding, name, case='confirmed')"
   ]
  },
  {
   "cell_type": "markdown",
   "metadata": {},
   "source": [
    "### CO3"
   ]
  },
  {
   "cell_type": "code",
   "execution_count": 4,
   "metadata": {},
   "outputs": [],
   "source": [
    "partial_order = [2, 1, [3, 4, 5, 6], [7, 8, 9, 10], [11, 12, 13]]\n",
    "confounding = [[False, False, False, False, False], [False, False, False, False, False], [False, False, True, True, True], [False, False, True, True, True]]\n",
    "name = \"CO3\"\n",
    "create_partial_order(partial_order, confounding, name, case='confirmed')"
   ]
  },
  {
   "cell_type": "markdown",
   "metadata": {},
   "source": [
    "### CO4"
   ]
  },
  {
   "cell_type": "code",
   "execution_count": 5,
   "metadata": {},
   "outputs": [],
   "source": [
    "partial_order = [1, 2, [3, 4], [5, 6], [7, 8, 9, 10], [11, 12, 13]]\n",
    "confounding = [[False, False, False, False, False, False], [False, False, False, False, False, False], [False, False, True, True, True, True], [False, False, True, True, True, True]]\n",
    "name = \"CO4\"\n",
    "create_partial_order(partial_order, confounding, name, case='confirmed')"
   ]
  },
  {
   "cell_type": "markdown",
   "metadata": {},
   "source": [
    "### CO5"
   ]
  },
  {
   "cell_type": "code",
   "execution_count": 6,
   "metadata": {},
   "outputs": [],
   "source": [
    "partial_order = [1, [2, 3, 4, 5, 6], [7, 8, 9, 10], [11, 12, 13]]\n",
    "confounding = [[False, False, False, False], [False, False, False, False], [False, True, True, True], [False, True, True, True]]\n",
    "name = \"CO5\"\n",
    "create_partial_order(partial_order, confounding, name, case='confirmed')"
   ]
  },
  {
   "cell_type": "markdown",
   "metadata": {},
   "source": [
    "### CO6"
   ]
  },
  {
   "cell_type": "code",
   "execution_count": 7,
   "metadata": {},
   "outputs": [],
   "source": [
    "partial_order = [2, 1, [3, 4], [5, 6], [7, 8, 9, 10], [11, 12, 13]]\n",
    "confounding = [[False, False, False, False, False, False], [False, False, False, False, False, False], [False, False, True, True, True, True], [False, False, True, True, True, True]]\n",
    "name = \"CO6\"\n",
    "create_partial_order(partial_order, confounding, name, case='confirmed')"
   ]
  },
  {
   "cell_type": "markdown",
   "metadata": {},
   "source": [
    "________________\n",
    "# Death"
   ]
  },
  {
   "cell_type": "markdown",
   "metadata": {},
   "source": [
    "### CO1"
   ]
  },
  {
   "cell_type": "code",
   "execution_count": 8,
   "metadata": {},
   "outputs": [],
   "source": [
    "partial_order = [1, [2, 3, 4], [5, 6], [7, 8, 9, 10], [11, 12, 13]]\n",
    "confounding = [[False, False, False, False, False], [False, False, False, False, False], [False, True, True, True, True], [False, True, True, True, True]]\n",
    "name = \"CO1\"\n",
    "create_partial_order(partial_order, confounding, name, case='death')"
   ]
  },
  {
   "cell_type": "markdown",
   "metadata": {},
   "source": [
    "### CO2"
   ]
  },
  {
   "cell_type": "code",
   "execution_count": 9,
   "metadata": {},
   "outputs": [],
   "source": [
    "partial_order = [[3, 4], [5, 6], 2, 1, [7, 8, 9, 10], [11, 12, 13]]\n",
    "confounding = [[False, False, False, False, False, False], [False, False, False, False, False, False], [True, True, False, False, True, True], [True, True, False, False, True, True]]\n",
    "name = \"CO2\"\n",
    "create_partial_order(partial_order, confounding, name, case='death')"
   ]
  },
  {
   "cell_type": "markdown",
   "metadata": {},
   "source": [
    "### CO3"
   ]
  },
  {
   "cell_type": "code",
   "execution_count": 10,
   "metadata": {},
   "outputs": [],
   "source": [
    "partial_order = [2, 1, [3, 4, 5, 6], [7, 8, 9, 10], [11, 12, 13]]\n",
    "confounding = [[False, False, False, False, False], [False, False, False, False, False], [False, False, True, True, True], [False, False, True, True, True]]\n",
    "name = \"CO3\"\n",
    "create_partial_order(partial_order, confounding, name, case='death')"
   ]
  },
  {
   "cell_type": "markdown",
   "metadata": {},
   "source": [
    "### CO4"
   ]
  },
  {
   "cell_type": "code",
   "execution_count": 11,
   "metadata": {},
   "outputs": [],
   "source": [
    "partial_order = [1, 2, [3, 4], [5, 6], [7, 8, 9, 10], [11, 12, 13]]\n",
    "confounding = [[False, False, False, False, False, False], [False, False, False, False, False, False], [False, False, True, True, True, True], [False, False, True, True, True, True]]\n",
    "name = \"CO4\"\n",
    "create_partial_order(partial_order, confounding, name, case='death')"
   ]
  },
  {
   "cell_type": "markdown",
   "metadata": {},
   "source": [
    "### CO5"
   ]
  },
  {
   "cell_type": "code",
   "execution_count": 12,
   "metadata": {},
   "outputs": [],
   "source": [
    "partial_order = [1, [2, 3, 4, 5, 6], [7, 8, 9, 10], [11, 12, 13]]\n",
    "confounding = [[False, False, False, False], [False, False, False, False], [False, True, True, True], [False, True, True, True]]\n",
    "name = \"CO5\"\n",
    "create_partial_order(partial_order, confounding, name, case='death')"
   ]
  },
  {
   "cell_type": "markdown",
   "metadata": {},
   "source": [
    "### CO6"
   ]
  },
  {
   "cell_type": "code",
   "execution_count": 13,
   "metadata": {},
   "outputs": [],
   "source": [
    "partial_order = [2, 1, [3, 4], [5, 6], [7, 8, 9, 10], [11, 12, 13]]\n",
    "confounding = [[False, False, False, False, False, False], [False, False, False, False, False, False], [False, False, True, True, True, True], [False, False, True, True, True, True]]\n",
    "name = \"CO6\"\n",
    "create_partial_order(partial_order, confounding, name, case='death')"
   ]
  }
 ],
 "metadata": {
  "kernelspec": {
   "display_name": "Python 3",
   "language": "python",
   "name": "python3"
  },
  "language_info": {
   "codemirror_mode": {
    "name": "ipython",
    "version": 3
   },
   "file_extension": ".py",
   "mimetype": "text/x-python",
   "name": "python",
   "nbconvert_exporter": "python",
   "pygments_lexer": "ipython3",
   "version": "3.6.7"
  }
 },
 "nbformat": 4,
 "nbformat_minor": 4
}
